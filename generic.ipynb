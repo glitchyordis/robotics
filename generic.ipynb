{
 "cells": [
  {
   "cell_type": "code",
   "execution_count": 8,
   "metadata": {},
   "outputs": [],
   "source": [
    "from scipy.spatial.transform import Rotation as R\n",
    "import numpy as np\n",
    "import numpy.typing as npt\n",
    "import util"
   ]
  },
  {
   "cell_type": "markdown",
   "metadata": {},
   "source": [
    "# Rotations (Euler and Rotatation vectors)"
   ]
  },
  {
   "cell_type": "code",
   "execution_count": 9,
   "metadata": {},
   "outputs": [
    {
     "data": {
      "text/plain": [
       "array([[[ 6.12372436e-01,  6.12372436e-01,  5.00000000e-01],\n",
       "        [ 3.53553391e-01,  3.53553391e-01, -8.66025404e-01],\n",
       "        [-7.07106781e-01,  7.07106781e-01,  5.55111512e-17]],\n",
       "\n",
       "       [[ 1.66533454e-16, -8.19152044e-01,  5.73576436e-01],\n",
       "        [ 7.07106781e-01,  4.05579788e-01,  5.79227965e-01],\n",
       "        [-7.07106781e-01,  4.05579788e-01,  5.79227965e-01]]])"
      ]
     },
     "execution_count": 9,
     "metadata": {},
     "output_type": "execute_result"
    }
   ],
   "source": [
    "# from euler, extrinsic rotation\n",
    "## single axis\n",
    "R.from_euler(seq='x', angles=90, degrees=True).as_matrix()   \n",
    "R.from_euler('x', [90], degrees=True).as_matrix()  \n",
    "R.from_euler('x', [90, 45, 30], degrees=True).as_matrix() \n",
    "\n",
    "## multi axis\n",
    "R.from_euler('xyz', [90, 45, 30], degrees=True).as_matrix()\n",
    "R.from_euler('xyz', [[90, 45, 30]], degrees=True).as_matrix()\n",
    "R.from_euler('xyz', [[90, 45, 30], [35, 45, 90]], degrees=True).as_matrix()"
   ]
  },
  {
   "cell_type": "markdown",
   "metadata": {},
   "source": [
    "Assuming universal robot joints are in Base: 0, -91.66, -68.04, -110.30, 90, Wrist 3: 0 </br>\n",
    "we can use `var:=get_actual_tcp_pose()`  to get the actual pose of tcp wrt to base </br>\n",
    "we'll get p[0.47987, -0.1333, 0.6238, 2.22144, -2.22144, -0] </br>\n",
    "\n",
    "<p align=\"center\">\n",
    "  <img src=\".\\imgs\\2024-12-21 204339.png\" alt=\"\" width=\"400\" style=\"max-width:100%;\">\n",
    "</p>\n",
    "\n",
    "code:\n",
    "```python\n",
    "x = R.from_rotvec([2.22144, -2.22144, 0]).as_matrix()\n",
    "util.print_array(x, True, 3)  \n",
    "\n",
    "\"\"\"\n",
    "[[ 0. -1. -0.]\n",
    " [-1.  0. -0.]\n",
    " [ 0.  0. -1.]]\n",
    "\n",
    "1st col: indicates x axis of tcp is in -1 dir of y axis of base\n",
    "2nd col: indicates y axis of tcp is in -1 dir of x axis of base\n",
    "3rd col: z axis of tcp is in -1 dir of z axis of base\n",
    "\"\"\"\n",
    "\n",
    "```\n",
    "In the following, we can see RPY is [180.  -0. -90.]. The code below confirms that we need to use `\"xyz\"` seq in `as_euler`\n",
    "<p align=\"center\">\n",
    "  <img src=\".\\imgs\\2024-12-21 205258.png\" alt=\"\" width=\"400\" style=\"max-width:100%;\">\n",
    "</p>\n",
    "\n",
    "code:\n",
    "```python\n",
    "x = R.from_rotvec([2.22144, -2.22144, 0]).as_euler(\"xyz\", degrees=True)\n",
    "util.print_array(x, True, 3) # [180.  -0. -90.]\n",
    "```\n"
   ]
  },
  {
   "cell_type": "code",
   "execution_count": 10,
   "metadata": {},
   "outputs": [
    {
     "name": "stdout",
     "output_type": "stream",
     "text": [
      "[180.  -0. -90.]\n"
     ]
    }
   ],
   "source": [
    "x = R.from_rotvec([2.22144, -2.22144, 0]).as_euler(\"xyz\", degrees=True)\n",
    "util.print_array(x, True, 3)  "
   ]
  },
  {
   "cell_type": "markdown",
   "metadata": {},
   "source": [
    "# Universal robot "
   ]
  },
  {
   "cell_type": "markdown",
   "metadata": {},
   "source": [
    "## Calculating pose transformation with python vs using PolyScope \n",
    "- refer to Obsidian Notes for full setup of Polyscope. The code below will still work"
   ]
  },
  {
   "cell_type": "code",
   "execution_count": 11,
   "metadata": {},
   "outputs": [
    {
     "name": "stdout",
     "output_type": "stream",
     "text": [
      "delta_bc\n",
      "[-0.18375 -0.01395  0.11765  0.       0.       0.     ]\n"
     ]
    }
   ],
   "source": [
    "\"\"\"\n",
    "According to Copilot, we can also use cv2.Rodrigues\n",
    "\n",
    "def pose_to_homogeneous(pose):\n",
    "    x, y, z, rx, ry, rz = pose\n",
    "    R, _ = cv2.Rodrigues(np.array([rx, ry, rz]))\n",
    "    T = np.eye(4)\n",
    "    T[:3, :3] = R\n",
    "    T[:3, 3] = [x, y, z]\n",
    "    return T\n",
    "\n",
    "def homogeneous_to_pose(T):\n",
    "    R = T[:3, :3]\n",
    "    t = T[:3, 3]\n",
    "    rx, ry, rz = cv2.Rodrigues(R)[0].flatten()\n",
    "    return [t[0], t[1], t[2], rx, ry, rz]\n",
    "\"\"\"\n",
    "\n",
    "def pose_to_TMatrix(pose: list[float]|npt.ArrayLike):\n",
    "    x, y, z, rx, ry, rz = pose\n",
    "    rot = R.from_rotvec([rx, ry, rz])\n",
    "    m = np.eye(4)\n",
    "    m[:3, :3] = rot.as_matrix()\n",
    "    m[:3, 3] = [x, y, z]\n",
    "    return m\n",
    "\n",
    "def TMatrix_to_pose(m: npt.NDArray):\n",
    "    rot = R.from_matrix(m[:3, :3])\n",
    "    t = m[:3, 3]\n",
    "    rx, ry, rz = rot.as_rotvec()\n",
    "    return [t[0], t[1], t[2], rx, ry, rz]\n",
    "\n",
    "def inverse_TMatrix(T):\n",
    "    R = T[:3, :3]\n",
    "    t = T[:3, 3]\n",
    "    R_inv = R.T\n",
    "    t_inv = -np.dot(R_inv, t)\n",
    "    T_inv = np.eye(4)\n",
    "    T_inv[:3, :3] = R_inv\n",
    "    T_inv[:3, 3] = t_inv\n",
    "    return T_inv\n",
    "\n",
    "# starting tcp pose relative to base frame (movej, variable position)\n",
    "pose_A = [0.03979, -0.44943, 0.48438, -0.00122, 3.14159, 0]\n",
    "\n",
    "# delta pose relative to A\n",
    "delta_ab = [0.18375, 0.01395, 0.23235, 0, 0, 0]\n",
    "delta_ac = [0, 0, 0.35, 0,0,0]\n",
    "\n",
    "\"\"\"\n",
    "Typically, without knowing the transofrmation matrix from B to C, \n",
    "all we can do is:\n",
    "\n",
    "movej(pose_A)\n",
    "movel(pose_B)\n",
    "movej(pose_A)\n",
    "movel(pose_C)\n",
    "\n",
    "To move directly from B to C (there by skipping the 2nd movej(A)), we need\n",
    "to perform the following calculation:\n",
    "\n",
    "T_{AC} = T_{AB}\\;T_{BC} \\\\\n",
    "T^{-1}_{AB}\\;T_{AC} = T_{BC}\n",
    "\n",
    "Steps:\n",
    "1. Convert the pose to a homogeneous transformation matrix.\n",
    "2. Calculate the inverse of T_{AB}.\n",
    "3. Multiply the inverse of T_{AB} with T_{AC}.\n",
    "4. For use with cobot on PolyScope, convert the resulting matrix back to a pose.\n",
    "5. Use moveL with this pose.\n",
    "\"\"\"\n",
    "\n",
    "t_AB = pose_to_TMatrix(delta_ab)\n",
    "t_AC = pose_to_TMatrix(delta_ac)\n",
    "t_ab_inv = inverse_TMatrix(t_AB) # pose_inv(t_AB) in Polyscope\n",
    "t_bc = t_ab_inv @ t_AC # pose_trans(t_ab_inv, t_AC) in Polyscope\n",
    "\n",
    "delta_bc = TMatrix_to_pose(t_bc)\n",
    "print(\"delta_bc\")\n",
    "util.print_array(np.array(delta_bc), True, precision=7)\n",
    "# [-0.18375 -0.01395  0.11765  0.       0.       0.     ]"
   ]
  }
 ],
 "metadata": {
  "kernelspec": {
   "display_name": "Python 3",
   "language": "python",
   "name": "python3"
  },
  "language_info": {
   "codemirror_mode": {
    "name": "ipython",
    "version": 3
   },
   "file_extension": ".py",
   "mimetype": "text/x-python",
   "name": "python",
   "nbconvert_exporter": "python",
   "pygments_lexer": "ipython3",
   "version": "3.10.15"
  }
 },
 "nbformat": 4,
 "nbformat_minor": 2
}
